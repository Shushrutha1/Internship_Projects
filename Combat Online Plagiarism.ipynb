{
 "cells": [
  {
   "cell_type": "code",
   "execution_count": 1,
   "id": "d29150ce-ce80-44f3-a51e-395c84def45f",
   "metadata": {},
   "outputs": [
    {
     "name": "stdout",
     "output_type": "stream",
     "text": [
      "example1.txt <--> example2.txt : 1.0000\n"
     ]
    }
   ],
   "source": [
    "import os\n",
    "from sklearn.feature_extraction.text import TfidfVectorizer\n",
    "from sklearn.metrics.pairwise import cosine_similarity\n",
    "from itertools import combinations\n",
    "\n",
    "# Load all .txt files in current directory\n",
    "student_files = [doc for doc in os.listdir() if doc.endswith('.txt')]\n",
    "# Or if you only want specific files, list them manually:\n",
    "# student_files = [\"example1.txt\", \"example2.txt\"]\n",
    "\n",
    "# Read contents of all files\n",
    "student_notes = [open(_file, encoding='utf-8').read() for _file in student_files]\n",
    "\n",
    "# Convert to TF-IDF vectors\n",
    "def vectorize(texts):\n",
    "    return TfidfVectorizer().fit_transform(texts).toarray()\n",
    "\n",
    "vectors = vectorize(student_notes)\n",
    "s_vectors = list(zip(student_files, vectors))\n",
    "\n",
    "def check_plagiarism():\n",
    "    results = []\n",
    "    # Compare every unique pair of files\n",
    "    for (student_a, vec_a), (student_b, vec_b) in combinations(s_vectors, 2):\n",
    "        sim_score = cosine_similarity([vec_a], [vec_b])[0][0]\n",
    "        results.append((student_a, student_b, sim_score))\n",
    "    return results\n",
    "\n",
    "# Run only if we have 2+ files\n",
    "if len(student_files) < 2:\n",
    "    print(\"⚠️ Need at least 2 text files to check for plagiarism.\")\n",
    "else:\n",
    "    for file_a, file_b, score in check_plagiarism():\n",
    "        print(f\"{file_a} <--> {file_b} : {score:.4f}\")\n"
   ]
  },
  {
   "cell_type": "code",
   "execution_count": null,
   "id": "6fcbbfcc-fa27-479c-ae0d-7a3d43272eb4",
   "metadata": {},
   "outputs": [],
   "source": []
  }
 ],
 "metadata": {
  "kernelspec": {
   "display_name": "Python [conda env:base] *",
   "language": "python",
   "name": "conda-base-py"
  },
  "language_info": {
   "codemirror_mode": {
    "name": "ipython",
    "version": 3
   },
   "file_extension": ".py",
   "mimetype": "text/x-python",
   "name": "python",
   "nbconvert_exporter": "python",
   "pygments_lexer": "ipython3",
   "version": "3.13.5"
  }
 },
 "nbformat": 4,
 "nbformat_minor": 5
}
